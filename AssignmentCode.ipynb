{
 "cells": [
  {
   "cell_type": "markdown",
   "metadata": {},
   "source": [
    "# PageRank"
   ]
  },
  {
   "cell_type": "code",
   "execution_count": 1,
   "metadata": {},
   "outputs": [],
   "source": [
    "%matplotlib inline\n",
    "import numpy as np\n",
    "import networkx as nx\n",
    "import matplotlib\n",
    "import matplotlib.pyplot as plt\n",
    "from matplotlib.gridspec import GridSpec"
   ]
  },
  {
   "cell_type": "markdown",
   "metadata": {},
   "source": [
    "PageRank (PR) és un algorisme que *Google Search* utilitza per classificar les pàgines web en els resultats del seu motor de cerca. \n",
    "PageRank és una forma de mesurar la **importància de les pàgines del lloc web**. \n",
    "\n",
    "    Segons Google:\n",
    "    PageRank funciona comptant el nombre i la qualitat dels enllaços a una pàgina per determinar una estimació aproximada de la importància del lloc web.\n",
    "    El supòsit subjacent és que és probable que els llocs web més importants rebin més enllaços d'altres llocs web.\n",
    "\n",
    "Actualment, PageRank no és l'únic algorisme utilitzat per Google per ordenar els resultats de la cerca, però és el primer algorisme que va utilitzar la companyia i és el més conegut.\n",
    "\n",
    "## Introducció\n",
    "\n",
    "Suposem que tenim una xarxa que conté $n$ pàgines, cada pàgina està indexada per un nombre enter $k$ on $1 \\leq k \\leq n$. \n",
    "A la figura següent es mostra un exemple típic, en què una fletxa de la pàgina 1 a la pàgina 2 indica un enllaç de la pàgina 1 a la pàgina 2. \n",
    "\n",
    "Aquesta web és un exemple de gràfic dirigit. Utilitzarem $x_k$ per denotar la puntuació d'importància de la pàgina $k$ a la web. \n",
    "$x_k$ no és negatiu i $x_j > x_k$ indica que la pàgina $j$ és més important que la pàgina $k$ (de manera que $x_j = 0$ indica que la pàgina $j$ té la mínima puntuació d'importància possible).\n",
    "\n",
    "Supossa que tenim la següent estructura de pàgines:\n",
    "\n",
    "<img src=\"img/page1.png\" />\n",
    "\n"
   ]
  },
  {
   "cell_type": "markdown",
   "metadata": {},
   "source": [
    "Si comptem el número de `in-link` (enllaços d'entrada) de cada pàgina $x$, obtenim:\n",
    "$$x_1=3, x_2=2, x_3=1, x_4=3$$\n",
    "\n",
    "Però també podem expressar-ho en funció de la pàgina de qui rebem l'enllaç, de forma que obtinguem la importància de cada web:\n",
    "\n",
    "$$x_k = \\sum_{j \\in L_k} \\frac{x_j}{n_j} $$\n",
    "\n",
    "on $L_k$ denota el conjunt de pàgines amb link a $k$ i $n_j$ és el nombre de `out-links` de $j$.\n",
    "\n",
    "Per exemple, si ho apliquem a $x_1$, obtindríem que $x_1 = \\frac{x_2}{2}  + \\frac{x_3}{2} + \\frac{x_4}{3}$. De forma semblant, podem aplicar-ho a la resta:\n",
    "\n",
    "$$x_1 = \\frac{x_2}{2}  + \\frac{x_3}{2} + \\frac{x_4}{3}$$\n",
    "$$x_2 = \\frac{x_1}{2}  + \\frac{x_4}{3} $$\n",
    "$$x_3 = \\frac{x_4}{3} $$\n",
    "$$x_4 = \\frac{x_1}{2}  + \\frac{x_2}{2}  + \\frac{x_3}{2} $$\n",
    "\n",
    "Si resolem el sistema anterior, estaríem trobant la importància de cada web. La solució obtinguda seria el vector $(x_1, x_2, x_3, x_4)$. \n",
    "\n",
    "La resolució d'aquest tipus de sistemes no és trivial (no en casos on tenim millors de webs, és clar!). Per tal de poder avançar, el que s'acostuma a fer és resoldre-ho en forma matricial:\n",
    "\n",
    "$$\n",
    "\\begin{array}{ccc}\n",
    "& \\text{Out-links} &\\\\\n",
    "G = &\\begin{bmatrix}\n",
    "    0 & \\frac{1}{2} & \\frac{1}{2} & \\frac{1}{3} \\\\\n",
    "    \\frac{1}{2} & 0 & 0 & \\frac{1}{3} \\\\\n",
    "    0 & 0 & 0 & \\frac{1}{3} \\\\\n",
    "    \\frac{1}{2} & \\frac{1}{2} & \\frac{1}{2} & 0\n",
    "\\end{bmatrix} & \\text{In-links}\n",
    "\\end{array}\n",
    "$$\n",
    "\n",
    "El sistema ara es converteix en una equació, arquetip fàcilment reconegut pels matemàtics:\n",
    "\n",
    "$$x = Gx$$\n",
    "\n",
    "Trobareu els detalls a la publicació titulada:\n",
    "\n",
    "`The $25,000,000,000 Eigenvector: The Linear Algebra behind Google`\n",
    "\n",
    "Realment el que estem fent és trobar el **vector propi que té per valor propi 1**. \n",
    "És a dir, resoldre $\\lambda x = Gx$ tal que $\\lambda = 1$"
   ]
  },
  {
   "cell_type": "markdown",
   "metadata": {},
   "source": [
    "## Mètode de la Potència \n",
    "\n",
    "**O com trobar el vector propi de valor propi 1**\n",
    "\n",
    "Un dels mètodes més eficients, tot i que no el que més, és el **mètode de la potència**. Aquest, permet trobar el vector propi que té el valor propi més alt (es pot demostrar que $\\lambda=1$ serà el més alt). \n",
    "\n",
    "El procediment iteratiu que segueix aquest mètode és:\n",
    "\n",
    "$\n",
    "i = 0\\\\\n",
    "\\text{do}\\\\\n",
    "\\hspace{2cm}y_{i+1} = G \\cdot x_i\\\\\n",
    "\\hspace{2cm}x_{i+1} = \\frac{y_{i+1}}{ ||y_{i+1}||_2}\\\\\n",
    "\\hspace{2cm}i = i + 1\\\\\n",
    "\\text{until }||x_{i+1} - x_{i}|| < eps\n",
    "$\n",
    "\n",
    "On $x_0$ és un vector normalitzat amb suma 1, per exemple si tenim $n$ webs en total $x_0 = (\\frac{1}{n}, \\dots, \\frac{1}{n})$."
   ]
  },
  {
   "cell_type": "markdown",
   "metadata": {},
   "source": [
    "**Implementa l'algorisme del mètode de la potència amb numpy, seguint el pseudocodi de dalt.**"
   ]
  },
  {
   "cell_type": "code",
   "execution_count": 53,
   "metadata": {},
   "outputs": [],
   "source": [
    "#from scipy import linalg as LA\n",
    "\n",
    "def power_method(G, eps=1e-6):\n",
    "    \"\"\"\n",
    "    Donada una matriu d'adjecències, en calcula el PageRank.\n",
    "    Mitjançant el mètode de la potència troba el vector propi\n",
    "    de valor propi màxim (1)\n",
    "    \n",
    "    :param G: Matriu a calcular el PageRank\n",
    "    :return: Vector d'importàncies del PageRank (vector\n",
    "        propi amb valor propi més alt)\n",
    "    \"\"\"\n",
    "    i = 0\n",
    "    (n,m)=G.shape \n",
    "    x=np.ones((n))/n\n",
    "    i=0\n",
    "    #e_vals, e_vecs = LA.eig(G)\n",
    "    #print(e_vecs)\n",
    "    #print(e_vals)\n",
    "    while (i<n):\n",
    "        xlast=x\n",
    "        x=np.dot(x,G)\n",
    "        err=np.abs(x-xlast).sum()\n",
    "        if err < n*eps:\n",
    "            return np.asarray(x).flatten()\n",
    "    \n",
    "    \"\"\"\n",
    "    while(i<n):\n",
    "        xlast = x\n",
    "        y = np.dot(x,G)\n",
    "        x = y / np.linalg.norm(y)\n",
    "        i+=1\n",
    "        err=np.abs(x-xlast).sum()\n",
    "        if err < eps:\n",
    "            return np.asarray(x).flatten()\n",
    "    \"\"\"\n",
    "        \n",
    "def solve_eig(G):\n",
    "    \"\"\"\n",
    "    Calcula els vectors i valors propis de la matriu G\n",
    "    mitjançant funcions de numpy. Funció de referència\n",
    "    que us pot servir per comprovar que el vostre mètode\n",
    "    power_method retorna el que toca.\n",
    "    \n",
    "    :param G: Matriu a calcular el PageRank\n",
    "    :return: Vector d'importàncies del PageRank (vector\n",
    "        propi amb valor propi més alt)\n",
    "    \"\"\"\n",
    "    vals, vecs = np.linalg.eig(G)\n",
    "    idxs = np.argsort(np.real(vals))\n",
    "    return np.abs(vecs[:, idxs[-1]])"
   ]
  },
  {
   "cell_type": "code",
   "execution_count": 54,
   "metadata": {},
   "outputs": [
    {
     "name": "stdout",
     "output_type": "stream",
     "text": [
      "[[0.   0.5  0.5  0.33]\n",
      " [0.5  0.   0.   0.33]\n",
      " [0.   0.   0.   0.33]\n",
      " [0.5  0.5  0.5  0.  ]]\n",
      "Eigenvector [0.25 0.25 0.25 0.25]\n",
      "Eigenvector [0.56 0.49 0.21 0.63]\n",
      "Eigenvalues [ 1. +0.j -0. +0.j -0.5+0.j -0.5-0.j]\n"
     ]
    }
   ],
   "source": [
    "if __name__ == '__main__':\n",
    "    G1 = np.asarray((\n",
    "        (0,     1/2.0, 1/2.0, 1/3.0), \n",
    "        (1/2.0, 0,     0,     1/3.0), \n",
    "        (0,     0,     0,     1/3.0), \n",
    "        (1/2.0, 1/2.0, 1/2.0, 0)\n",
    "    ))\n",
    "    x = power_method(G1)\n",
    "    y = solve_eig(G1)\n",
    "    \n",
    "    print(np.round(G1, 2))\n",
    "    print('Eigenvector', np.round(x, 2))\n",
    "    print('Eigenvector', np.round(y, 2))\n",
    "    print('Eigenvalues', np.round(np.linalg.eigvals(G1), 2))"
   ]
  },
  {
   "cell_type": "markdown",
   "metadata": {},
   "source": [
    "## Casos extrems\n",
    "\n",
    "Evidentment, no tot és tan bonic com sembla... Què passa si tenim un graf no connexe?\n",
    "\n",
    "Crea la matriu de la següent configuració i prova que passa quan n'executes el mètode de la potència:\n",
    "\n",
    "<img src=\"img/page2.png\" />"
   ]
  },
  {
   "cell_type": "code",
   "execution_count": 55,
   "metadata": {},
   "outputs": [
    {
     "name": "stdout",
     "output_type": "stream",
     "text": [
      "[[0.  0.5 0.5 0.  0. ]\n",
      " [0.5 0.  0.5 0.  0. ]\n",
      " [0.5 0.5 0.  0.  0. ]\n",
      " [0.  0.  0.  0.  1. ]\n",
      " [0.  0.  0.  1.  0. ]]\n",
      "Eigenvector [0.2 0.2 0.2 0.2 0.2]\n",
      "Eigenvector [0.   0.   0.   0.71 0.71]\n",
      "Eigenvalues [-0.5  1.  -0.5  1.  -1. ]\n"
     ]
    }
   ],
   "source": [
    "if __name__ == '__main__':\n",
    "    # A definir per l'alumne\n",
    "    G2 = np.asarray((\n",
    "        (0,     1/2.0, 1/2.0, 0,   0), \n",
    "        (1/2.0, 0,     1/2.0, 0,   0), \n",
    "        (1/2.0, 1/2.0, 0,     0,   0), \n",
    "        (0,     0,     0,     0,   1.0),\n",
    "        (0,     0,     0,     1.0, 0)\n",
    "    ))\n",
    "    x = power_method(G2)\n",
    "    y = solve_eig(G2)\n",
    "    \n",
    "    print(np.round(G2, 2))\n",
    "    print('Eigenvector', np.round(x, 2))\n",
    "    print('Eigenvector', np.round(y, 2))\n",
    "    print('Eigenvalues', np.round(np.linalg.eigvals(G2), 2))"
   ]
  },
  {
   "cell_type": "markdown",
   "metadata": {},
   "source": [
    "<hr />\n",
    "\n",
    "* RECORDA JUSTIFICAR LA RESPOSTA\n",
    "\n",
    "<hr />\n",
    "\n",
    "**Quina diferència heu trobat respecte el cas anterior?**"
   ]
  },
  {
   "cell_type": "markdown",
   "metadata": {},
   "source": [
    "## ANSWER"
   ]
  },
  {
   "cell_type": "markdown",
   "metadata": {},
   "source": [
    "I encara en trobem un més de cas extrem:\n",
    "\n",
    "<img src=\"img/page3.png\" />"
   ]
  },
  {
   "cell_type": "code",
   "execution_count": 57,
   "metadata": {},
   "outputs": [
    {
     "name": "stdout",
     "output_type": "stream",
     "text": [
      "[[0.  0.  0.5 0. ]\n",
      " [0.  0.  0.5 0. ]\n",
      " [1.  0.  0.  0. ]\n",
      " [0.  0.  0.  0. ]]\n",
      "Eigenvector [0.5  0.5  0.71 0.  ]\n",
      "Eigenvalues [ 0.    0.71 -0.71  0.  ]\n"
     ]
    }
   ],
   "source": [
    "if __name__ == '__main__':\n",
    "    # A definir per l'alumne\n",
    "    G3 = np.asarray((\n",
    "        (0,   0, 1/2.0, 0), \n",
    "        (0,   0, 1/2.0, 0), \n",
    "        (1.0, 0, 0,     0), \n",
    "        (0,   0, 0,     0)\n",
    "    ))\n",
    "    #x = power_method(G3) # Comentat expressament, doncs és un bucle infinit\n",
    "    y = solve_eig(G3)\n",
    "    \n",
    "    print(np.round(G3, 2))\n",
    "    print('Eigenvector', np.round(y, 2))\n",
    "    print('Eigenvalues', np.round(np.linalg.eigvals(G3), 2))"
   ]
  },
  {
   "cell_type": "markdown",
   "metadata": {},
   "source": [
    "<hr />\n",
    "\n",
    "* RECORDA JUSTIFICAR LA RESPOSTA\n",
    "\n",
    "<hr />\n",
    "\n",
    "**Quines diferències heu trobat respecte el casos anteriors?**"
   ]
  },
  {
   "cell_type": "markdown",
   "metadata": {},
   "source": [
    "## ANSWER"
   ]
  },
  {
   "cell_type": "markdown",
   "metadata": {},
   "source": [
    "## Solucions\n",
    "\n",
    "Per evitar tenir cicles, grafs separats o dangling nodes, el que es fa és modificar la matriu G afegint \"soroll\".\n",
    "D'aquesta manera queden tots els nodes connectats. Aquesta tècnica a vegades rep el nom de \"**Random Surfer**\".\n",
    "\n",
    "$$M = (1 - m) \\cdot G + m \\cdot S$$\n",
    "\n",
    "On $S$ és una matriu on totes les seves components tenen valor $1/n$ amb $n$ sent la dimensió de la matriu (nombre de files / nombre de nodes) i $m$ és un nombre petit, normalment $0.15$."
   ]
  },
  {
   "cell_type": "markdown",
   "metadata": {},
   "source": [
    "**Fes una funció que donada la matriu $G$ i $m$ calculi la nova matriu $M$**"
   ]
  },
  {
   "cell_type": "code",
   "execution_count": 66,
   "metadata": {},
   "outputs": [],
   "source": [
    "def fix_matrix(G, m=0.15):\n",
    "    \"\"\"\n",
    "    Introdueix un soroll \"m\" a la matriu per tal de que tots els\n",
    "    nodes estiguin connectats, segons la definició anterior\n",
    "    \n",
    "    :param G: Matriu a afegir soroll\n",
    "    :param m: Soroll a afegir\n",
    "    :return: Matriu amb soroll\n",
    "    \"\"\"\n",
    "    S = 1/G.shape[0]\n",
    "    M = (1 - m) * G + m * S\n",
    "    return M"
   ]
  },
  {
   "cell_type": "code",
   "execution_count": 67,
   "metadata": {},
   "outputs": [
    {
     "name": "stdout",
     "output_type": "stream",
     "text": [
      "[[0.03 0.45 0.45 0.03 0.03]\n",
      " [0.45 0.03 0.45 0.03 0.03]\n",
      " [0.45 0.45 0.03 0.03 0.03]\n",
      " [0.03 0.03 0.03 0.03 0.88]\n",
      " [0.03 0.03 0.03 0.88 0.03]]\n",
      "Eigenvector [0.2 0.2 0.2 0.2 0.2]\n",
      "Eigenvector [0.   0.   0.   0.71 0.71]\n",
      "Eigenvector [0.45 0.45 0.45 0.45 0.45]\n",
      "Eigenvalues [-0.43  1.    0.85 -0.43 -0.85]\n"
     ]
    }
   ],
   "source": [
    "if __name__ == '__main__':\n",
    "    M2 = fix_matrix(G2)\n",
    "    x = power_method(M2)\n",
    "    y = solve_eig(G2)\n",
    "    z = solve_eig(M2)\n",
    "    \n",
    "    print(np.round(M2, 2))\n",
    "    print('Eigenvector', np.round(x, 2))\n",
    "    print('Eigenvector', np.round(y, 2))\n",
    "    print('Eigenvector', np.round(z, 2))\n",
    "    print('Eigenvalues', np.round(np.linalg.eigvals(M2), 2))"
   ]
  },
  {
   "cell_type": "code",
   "execution_count": 68,
   "metadata": {},
   "outputs": [
    {
     "name": "stdout",
     "output_type": "stream",
     "text": [
      "[[0.04 0.04 0.46 0.04]\n",
      " [0.04 0.04 0.46 0.04]\n",
      " [0.89 0.04 0.04 0.04]\n",
      " [0.04 0.04 0.04 0.04]]\n",
      "Eigenvector [0. 0. 0. 0.]\n",
      "Eigenvector [0.5  0.5  0.71 0.  ]\n",
      "Eigenvector [0.51 0.51 0.69 0.09]\n",
      "Eigenvalues [ 0.72 -0.6   0.03  0.  ]\n"
     ]
    }
   ],
   "source": [
    "if __name__ == '__main__':\n",
    "    M3 = fix_matrix(G3)\n",
    "    x = power_method(M3)\n",
    "    y = solve_eig(G3)\n",
    "    z = solve_eig(M3)\n",
    "    \n",
    "    print(np.round(M3, 2))\n",
    "    print('Eigenvector', np.round(x, 2))\n",
    "    print('Eigenvector', np.round(y, 2))\n",
    "    print('Eigenvector', np.round(z, 2))\n",
    "    print('Eigenvalues', np.round(np.linalg.eigvals(M3), 2))"
   ]
  },
  {
   "cell_type": "markdown",
   "metadata": {},
   "source": [
    "<hr />\n",
    "\n",
    "* RECORDA JUSTIFICAR LA RESPOSTA\n",
    "\n",
    "<hr />\n",
    "\n",
    "**Quines modificacions han sofert les solucions del sistema?**"
   ]
  },
  {
   "cell_type": "markdown",
   "metadata": {},
   "source": [
    "## ANSWER"
   ]
  },
  {
   "cell_type": "markdown",
   "metadata": {},
   "source": [
    "# Amb els busos de Barcelona"
   ]
  },
  {
   "cell_type": "markdown",
   "metadata": {},
   "source": [
    "En aquesta segona part de la pràctica heu d'aplicar l'algoritme del **PageRank** per identificar la relevancia de les estacions de Barcelona.\n",
    "\n",
    "A diferència de la pràctica anterior, en aquesta pràctica el graf que us donem està dirigit i conté més d'un component (hi ha subgrafs no connectats entre sí)."
   ]
  },
  {
   "cell_type": "code",
   "execution_count": 74,
   "metadata": {},
   "outputs": [],
   "source": [
    "def to_connections_matrix(G):\n",
    "    \"\"\"\n",
    "    Converteix el graf G en una matriu d'adjacències i després normalitza les\n",
    "    columnes per tal que sumin 1. La matriu resultant és de la forma de les\n",
    "    matrius de connexions dels exercicis anteriors.\n",
    "    \n",
    "    Tot seguit, afegeix soroll, amb valor m=0.15, mitjançant fix_matrix.\n",
    "    \n",
    "    Per exemple\n",
    "    Adj(G) = [\n",
    "        [0 0 1 0 0 1]\n",
    "        [0 1 1 0 0 0]\n",
    "        [0 1 1 0 0 1]\n",
    "        [0 0 0 1 0 0]\n",
    "    ]\n",
    "    \n",
    "    connexions = [\n",
    "        [0 0   1/3 0 0 1/2]\n",
    "        [0 1/2 1/3 0 0 0]\n",
    "        [0 1/2 1/3 0 0 1/2]\n",
    "        [0 0   0   1 0 0]\n",
    "    ]\n",
    "    \n",
    "    fixed = [\n",
    "        [0.0375 0.0375 0.320   0.0375 0.0375 0.4625]\n",
    "        [0.0375 0.4625 0.320   0.0375 0.0375 0.0375]\n",
    "        [0.0375 0.4625 0.320   0.0375 0.0375 0.4625]\n",
    "        [0.0375 0.0375 0.0375  0.8875 0.0375 0.0375]\n",
    "    ]\n",
    "    \n",
    "    :param G: Graf de busos\n",
    "    :return: Matriu de conexions amb soroll\n",
    "    \"\"\"\n",
    "    nodes = {node: i for i, node in enumerate(G.nodes)}\n",
    "    matrix = np.zeros((len(nodes), len(nodes)), dtype = np.int64)\n",
    "    for i in G.edges:\n",
    "        matrix[nodes[i[0]],nodes[i[1]]], matrix[nodes[i[1]],nodes[i[0]]] = 1, 1\n",
    "    \n",
    "    matrix = matrix / matrix.max(axis=0)\n",
    "    \n",
    "    fixed = fix_matrix(matrix, m=0.15)\n",
    "\n",
    "\n",
    "\n"
   ]
  },
  {
   "cell_type": "code",
   "execution_count": 75,
   "metadata": {},
   "outputs": [],
   "source": [
    "def importance_per_node(M):\n",
    "    \"\"\"\n",
    "    Crea un diccionari on les claus són els nodes i el valor la importància\n",
    "    del node segons l'algorisme de PageRank.\n",
    "    \n",
    "    La importància ve definida segons el vector propi correspon al valor propi\n",
    "    més gran. El node en posició \"i\" té per importància la posició \"i\" d'aquest vector.\n",
    "    \n",
    "    :param M: Matriu de conexions amb soroll\n",
    "    :return: Diccionari node -> importància\n",
    "    \"\"\"\n",
    "    raise NotImplementedError()"
   ]
  },
  {
   "cell_type": "code",
   "execution_count": 76,
   "metadata": {},
   "outputs": [],
   "source": [
    "def plot_gragh(G, scores=None, use_colors=True):\n",
    "    \"\"\"\n",
    "    Funció que visualitza el graf de les estacions de tren a sobre de Barcelona.\n",
    "    \"\"\"\n",
    "    fig = plt.figure(figsize=(16, 10), constrained_layout=True)\n",
    "    ax = fig.gca()\n",
    "    plt.axis('off')\n",
    "    \n",
    "    if scores is not None:\n",
    "        spec = GridSpec(ncols=2, nrows=1, width_ratios=[2, 1], height_ratios=[1], figure=fig)\n",
    "        ax = plt.subplot(spec[0, 0])\n",
    "    \n",
    "    pos = {n: np.asarray(n) for n in G.nodes}\n",
    "    colors = 'black' if not use_colors else [G.edges[e]['color'] for e in G.edges]\n",
    "    \n",
    "    nx.draw_networkx_edges(\n",
    "        G, \n",
    "        pos=pos,\n",
    "        edge_color=colors\n",
    "    )\n",
    "    \n",
    "    apos = np.asarray(list(pos.values()))\n",
    "    minx = apos.min(axis=0)\n",
    "    maxx = apos.max(axis=0)\n",
    "    ax.set_xlim([minx[0], maxx[0]])\n",
    "    ax.set_ylim([minx[1], maxx[1]])\n",
    "\n",
    "    if scores is not None:\n",
    "        nodelist = sorted(G.nodes(), key=lambda n: scores[n])\n",
    "        ncolor = np.asarray([scores[n] for n in nodelist])\n",
    "        nodes = nx.draw_networkx_nodes(G, nodelist=nodelist, pos=pos, node_size=20, cmap=plt.cm.jet, node_color=ncolor, alpha=0.7)\n",
    "        plt.colorbar(nodes, cmap=plt.cm.jet, orientation='horizontal')\n",
    "\n",
    "        plt.subplot(spec[0, 1])\n",
    "        score_array = np.array(list(scores.values()))\n",
    "        plt.hist(score_array,bins=100)\n",
    "        plt.show() "
   ]
  },
  {
   "cell_type": "markdown",
   "metadata": {},
   "source": [
    "Crida les anteriors funcions per visualitzar la importància de cada parada de bus"
   ]
  },
  {
   "cell_type": "code",
   "execution_count": 77,
   "metadata": {},
   "outputs": [],
   "source": [
    "G = nx.readwrite.read_yaml('data/directed_graph.yml')"
   ]
  },
  {
   "cell_type": "code",
   "execution_count": 78,
   "metadata": {},
   "outputs": [],
   "source": [
    "M = to_connections_matrix(G)"
   ]
  },
  {
   "cell_type": "code",
   "execution_count": 79,
   "metadata": {},
   "outputs": [
    {
     "ename": "NotImplementedError",
     "evalue": "",
     "output_type": "error",
     "traceback": [
      "\u001b[0;31m---------------------------------------------------------------------------\u001b[0m",
      "\u001b[0;31mNotImplementedError\u001b[0m                       Traceback (most recent call last)",
      "\u001b[0;32m<ipython-input-79-5f97971fb98b>\u001b[0m in \u001b[0;36m<module>\u001b[0;34m\u001b[0m\n\u001b[0;32m----> 1\u001b[0;31m \u001b[0mnode_to_val\u001b[0m \u001b[0;34m=\u001b[0m \u001b[0mimportance_per_node\u001b[0m\u001b[0;34m(\u001b[0m\u001b[0mM\u001b[0m\u001b[0;34m)\u001b[0m\u001b[0;34m\u001b[0m\u001b[0;34m\u001b[0m\u001b[0m\n\u001b[0m",
      "\u001b[0;32m<ipython-input-75-481f8eacb3a9>\u001b[0m in \u001b[0;36mimportance_per_node\u001b[0;34m(M)\u001b[0m\n\u001b[1;32m     10\u001b[0m     \u001b[0;34m:\u001b[0m\u001b[0;32mreturn\u001b[0m\u001b[0;34m:\u001b[0m \u001b[0mDiccionari\u001b[0m \u001b[0mnode\u001b[0m \u001b[0;34m->\u001b[0m \u001b[0mimportància\u001b[0m\u001b[0;34m\u001b[0m\u001b[0;34m\u001b[0m\u001b[0m\n\u001b[1;32m     11\u001b[0m     \"\"\"\n\u001b[0;32m---> 12\u001b[0;31m     \u001b[0;32mraise\u001b[0m \u001b[0mNotImplementedError\u001b[0m\u001b[0;34m(\u001b[0m\u001b[0;34m)\u001b[0m\u001b[0;34m\u001b[0m\u001b[0;34m\u001b[0m\u001b[0m\n\u001b[0m",
      "\u001b[0;31mNotImplementedError\u001b[0m: "
     ]
    }
   ],
   "source": [
    "node_to_val = importance_per_node(M)"
   ]
  },
  {
   "cell_type": "code",
   "execution_count": null,
   "metadata": {},
   "outputs": [],
   "source": [
    "plot_gragh(G, node_to_val, use_colors=False)"
   ]
  },
  {
   "cell_type": "markdown",
   "metadata": {},
   "source": [
    "<hr />\n",
    "\n",
    "* RECORDA JUSTIFICAR LA RESPOSTA\n",
    "\n",
    "<hr />\n",
    "\n",
    "**Utilitzant les gràfiques anteriors, que vol dir que un node sigui més important que un altre?**"
   ]
  },
  {
   "cell_type": "code",
   "execution_count": null,
   "metadata": {},
   "outputs": [],
   "source": []
  }
 ],
 "metadata": {
  "kernelspec": {
   "display_name": "Python 3",
   "language": "python",
   "name": "python3"
  },
  "language_info": {
   "codemirror_mode": {
    "name": "ipython",
    "version": 3
   },
   "file_extension": ".py",
   "mimetype": "text/x-python",
   "name": "python",
   "nbconvert_exporter": "python",
   "pygments_lexer": "ipython3",
   "version": "3.7.5"
  }
 },
 "nbformat": 4,
 "nbformat_minor": 2
}
